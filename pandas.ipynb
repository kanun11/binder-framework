{
 "cells": [
  {
   "cell_type": "code",
   "execution_count": 1,
   "id": "f8f0fb8c",
   "metadata": {},
   "outputs": [],
   "source": [
    "import numpy as np\n",
    "import pandas as pd"
   ]
  },
  {
   "cell_type": "code",
   "execution_count": 2,
   "id": "5fabe199",
   "metadata": {},
   "outputs": [],
   "source": [
    "data = pd.read_csv('energy.csv')"
   ]
  },
  {
   "cell_type": "code",
   "execution_count": 5,
   "id": "66f9c665",
   "metadata": {},
   "outputs": [
    {
     "name": "stdout",
     "output_type": "stream",
     "text": [
      "<class 'pandas.core.frame.DataFrame'>\n",
      "RangeIndex: 450 entries, 0 to 449\n",
      "Data columns (total 26 columns):\n",
      " #   Column                                     Non-Null Count  Dtype  \n",
      "---  ------                                     --------------  -----  \n",
      " 0   Company Name                               450 non-null    object \n",
      " 1   company contact                            450 non-null    object \n",
      " 2   company email                              433 non-null    object \n",
      " 3   company phone                              450 non-null    object \n",
      " 4   Address                                    450 non-null    object \n",
      " 5   City                                       450 non-null    object \n",
      " 6   State                                      450 non-null    object \n",
      " 7   Postcode                                   450 non-null    int64  \n",
      " 8   Industry                                   450 non-null    object \n",
      " 9   Industry descr                             434 non-null    object \n",
      " 10  Company Type                               450 non-null    object \n",
      " 11  Current fulltime                           446 non-null    float64\n",
      " 12  Job created                                11 non-null     float64\n",
      " 13  Job retain                                 14 non-null     float64\n",
      " 14  Effective Date                             450 non-null    object \n",
      " 15  Total Savings                              450 non-null    float64\n",
      " 16  Savings from beginning receiving benefits  450 non-null    float64\n",
      " 17  Borough                                    450 non-null    object \n",
      " 18  Latitude                                   409 non-null    float64\n",
      " 19  Longitude                                  409 non-null    float64\n",
      " 20  Community Board                            409 non-null    float64\n",
      " 21  Council District                           409 non-null    float64\n",
      " 22  Census Tract                               409 non-null    float64\n",
      " 23  BIN                                        401 non-null    float64\n",
      " 24  BBL                                        401 non-null    float64\n",
      " 25  NTA                                        409 non-null    object \n",
      "dtypes: float64(12), int64(1), object(13)\n",
      "memory usage: 91.5+ KB\n"
     ]
    }
   ],
   "source": [
    "data.info()"
   ]
  },
  {
   "cell_type": "markdown",
   "id": "2ea85ac6",
   "metadata": {},
   "source": [
    "450 companies are presented in the data set"
   ]
  },
  {
   "cell_type": "code",
   "execution_count": 103,
   "id": "4cd960a4",
   "metadata": {},
   "outputs": [
    {
     "data": {
      "text/plain": [
       "3"
      ]
     },
     "execution_count": 103,
     "metadata": {},
     "output_type": "execute_result"
    }
   ],
   "source": [
    "data[data['City'] == 'Queens']['Job created'].count()"
   ]
  },
  {
   "cell_type": "markdown",
   "id": "bb110e9b",
   "metadata": {},
   "source": [
    "The total number of jobs created for businesses in Queens is 3."
   ]
  },
  {
   "cell_type": "code",
   "execution_count": 40,
   "id": "c7d81e2c",
   "metadata": {},
   "outputs": [
    {
     "data": {
      "text/plain": [
       "420"
      ]
     },
     "execution_count": 40,
     "metadata": {},
     "output_type": "execute_result"
    }
   ],
   "source": [
    "data['company email'].nunique()"
   ]
  },
  {
   "cell_type": "markdown",
   "id": "049b6341",
   "metadata": {},
   "source": [
    "There are 420 different unique email domains present in the data set.\n"
   ]
  },
  {
   "cell_type": "code",
   "execution_count": 130,
   "id": "13774345",
   "metadata": {},
   "outputs": [
    {
     "data": {
      "text/plain": [
       "Hunters Point-Sunnyside-West Maspeth         True\n",
       "Sunset Park West                             True\n",
       "Queensbridge-Ravenswood-Long Island City     True\n",
       "park-cemetery-etc-Brooklyn                   True\n",
       "Greenpoint                                   True\n",
       "                                            ...  \n",
       "Washington Heights South                    False\n",
       "Forest Hills                                False\n",
       "Morrisania-Melrose                          False\n",
       "Ocean Hill                                  False\n",
       "Co-op City                                  False\n",
       "Name: NTA, Length: 79, dtype: bool"
      ]
     },
     "execution_count": 130,
     "metadata": {},
     "output_type": "execute_result"
    }
   ],
   "source": [
    "data['NTA'].value_counts()>5"
   ]
  },
  {
   "cell_type": "code",
   "execution_count": null,
   "id": "1e73a7de",
   "metadata": {},
   "outputs": [],
   "source": []
  },
  {
   "cell_type": "code",
   "execution_count": null,
   "id": "b704adf9",
   "metadata": {},
   "outputs": [],
   "source": []
  }
 ],
 "metadata": {
  "kernelspec": {
   "display_name": "Python 3 (ipykernel)",
   "language": "python",
   "name": "python3"
  },
  "language_info": {
   "codemirror_mode": {
    "name": "ipython",
    "version": 3
   },
   "file_extension": ".py",
   "mimetype": "text/x-python",
   "name": "python",
   "nbconvert_exporter": "python",
   "pygments_lexer": "ipython3",
   "version": "3.7.11"
  }
 },
 "nbformat": 4,
 "nbformat_minor": 5
}
